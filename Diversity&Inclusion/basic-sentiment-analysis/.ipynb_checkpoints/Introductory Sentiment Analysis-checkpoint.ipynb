{
 "metadata": {
  "name": "",
  "signature": "sha256:391f30594f3ea23afaa930d1f28e97bb050ba00e23e698c7074494d45126e641"
 },
 "nbformat": 3,
 "nbformat_minor": 0,
 "worksheets": []
}